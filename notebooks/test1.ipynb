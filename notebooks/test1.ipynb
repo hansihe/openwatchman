{
 "cells": [
  {
   "cell_type": "code",
   "execution_count": 7,
   "metadata": {},
   "outputs": [],
   "source": [
    "from sympy import Matrix, MatrixSymbol\n",
    "from sympy import init_printing\n",
    "init_printing()"
   ]
  },
  {
   "cell_type": "code",
   "execution_count": 14,
   "metadata": {},
   "outputs": [
    {
     "data": {
      "text/latex": [
       "$$\\left[\\begin{matrix}M_{0, 0} v_{0, 0} + M_{1, 0} v_{0, 1} + M_{2, 0} v_{0, 2}\\end{matrix}\\right]$$"
      ],
      "text/plain": [
       "[M₀₀⋅v₀₀ + M₁₀⋅v₀₁ + M₂₀⋅v₀₂]"
      ]
     },
     "execution_count": 14,
     "metadata": {},
     "output_type": "execute_result"
    }
   ],
   "source": [
    "v = MatrixSymbol('v', 1, 3)\n",
    "M = MatrixSymbol('M', 3, 1)\n",
    "\n",
    "Matrix(v*M).expand()"
   ]
  }
 ],
 "metadata": {
  "kernelspec": {
   "display_name": "Python 3",
   "language": "python",
   "name": "python3"
  },
  "language_info": {
   "codemirror_mode": {
    "name": "ipython",
    "version": 3
   },
   "file_extension": ".py",
   "mimetype": "text/x-python",
   "name": "python",
   "nbconvert_exporter": "python",
   "pygments_lexer": "ipython3",
   "version": "3.8.2"
  }
 },
 "nbformat": 4,
 "nbformat_minor": 4
}
