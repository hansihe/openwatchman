{
 "cells": [
  {
   "cell_type": "code",
   "execution_count": 1,
   "metadata": {},
   "outputs": [
    {
     "data": {
      "text/plain": []
     },
     "execution_count": 1,
     "metadata": {},
     "output_type": "execute_result"
    }
   ],
   "source": [
    "#pragma cling add_include_path \"/usr/include/eigen3\"\n",
    "#include <Eigen/Eigen>\n",
    "#include <iostream>\n",
    "using namespace Eigen;\n",
    "using namespace std;\n",
    "// point\n",
    "Vector2d p{1, 2};\n",
    "//cout << p[0] << p[1] << endl;\n",
    "\n",
    "VectorXd v(8);\n",
    "v << 1, 2, 3, 4, 5, 6, 7, 8;\n",
    "\n",
    "MatrixX2d m = Map<const MatrixX2d>(v.data(), v.rows()/2, 2);"
   ]
  },
  {
   "cell_type": "code",
   "execution_count": 4,
   "metadata": {},
   "outputs": [
    {
     "name": "stdout",
     "output_type": "stream",
     "text": [
      "1 5\n",
      "2 6\n",
      "3 7\n",
      "4 8\n"
     ]
    },
    {
     "data": {
      "text/plain": [
       "(std::basic_ostream<char, std::char_traits<char> >::__ostream_type &) @0x7f53d95dce40\n"
      ]
     },
     "execution_count": 4,
     "metadata": {},
     "output_type": "execute_result"
    }
   ],
   "source": [
    "std::cout << m << std::endl;"
   ]
  }
 ],
 "metadata": {
  "kernelspec": {
   "display_name": "C++11",
   "language": "C++",
   "name": "cling-cpp11"
  },
  "language_info": {
   "codemirror_mode": "c++",
   "file_extension": ".c++",
   "mimetype": "text/x-c++src",
   "name": "c++"
  }
 },
 "nbformat": 4,
 "nbformat_minor": 2
}
