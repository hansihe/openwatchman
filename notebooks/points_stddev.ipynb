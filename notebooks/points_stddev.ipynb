{
 "cells": [
  {
   "cell_type": "code",
   "execution_count": 24,
   "metadata": {},
   "outputs": [],
   "source": [
    "import re\n",
    "\n",
    "samples = []\n",
    "\n",
    "with open(\"standstill_center_points.txt\", 'rt') as f:\n",
    "    for line in f:\n",
    "        match = re.match('^sweep: s0\\(([^)]+)\\) s1\\(([^)]+)\\) s1start\\((\\d+)\\) sensor0\\((\\d+)\\)$', line.strip())\n",
    "        s0 = match.group(1)\n",
    "        s1 = match.group(2)\n",
    "        s1_start_time = int(match.group(3))\n",
    "        time = int(match.group(4))\n",
    "        \n",
    "        if \"s0\" in s0:\n",
    "            station = 0\n",
    "        else:\n",
    "            station = 1\n",
    "            time = time - s1_start_time\n",
    "        \n",
    "        if \"a0\" in s0:\n",
    "            axis = 0\n",
    "        else:\n",
    "            axis = 1\n",
    "            \n",
    "        samples.append(((station, axis), time))"
   ]
  },
  {
   "cell_type": "code",
   "execution_count": 25,
   "metadata": {},
   "outputs": [],
   "source": [
    "groups = {\n",
    "    \"00\": [],\n",
    "    \"01\": [],\n",
    "    \"10\": [],\n",
    "    \"11\": []\n",
    "}\n",
    "\n",
    "for sample in samples:\n",
    "    name = str(sample[0][0]) + str(sample[0][1])\n",
    "    groups[name].append(sample[1])"
   ]
  },
  {
   "cell_type": "code",
   "execution_count": 28,
   "metadata": {},
   "outputs": [
    {
     "name": "stdout",
     "output_type": "stream",
     "text": [
      "00 65092.37784090909 1.7180317019628097\n",
      "01 65642.65340909091 1.4991929235537187\n",
      "10 66872.05397727272 2.3692455449380163\n",
      "11 66527.5625 2.3199573863636362\n"
     ]
    }
   ],
   "source": [
    "import numpy as np\n",
    "\n",
    "for name in [\"00\", \"01\", \"10\", \"11\"]:\n",
    "    print(name, np.mean(groups[name]), np.var(groups[name]))\n",
    "    \n",
    "# 66000-ish is the center"
   ]
  },
  {
   "cell_type": "code",
   "execution_count": null,
   "metadata": {},
   "outputs": [],
   "source": []
  }
 ],
 "metadata": {
  "kernelspec": {
   "display_name": "Python 3",
   "language": "python",
   "name": "python3"
  },
  "language_info": {
   "codemirror_mode": {
    "name": "ipython",
    "version": 3
   },
   "file_extension": ".py",
   "mimetype": "text/x-python",
   "name": "python",
   "nbconvert_exporter": "python",
   "pygments_lexer": "ipython3",
   "version": "3.8.2"
  }
 },
 "nbformat": 4,
 "nbformat_minor": 4
}
