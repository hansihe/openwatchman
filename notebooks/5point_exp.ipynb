{
 "cells": [
  {
   "cell_type": "code",
   "execution_count": 9,
   "metadata": {},
   "outputs": [
    {
     "name": "stdout",
     "output_type": "stream",
     "text": [
      "IPython console for SymPy 1.2 (Python 3.6.7-64-bit) (ground types: python)\n",
      "\n",
      "These commands were executed:\n",
      ">>> from __future__ import division\n",
      ">>> from sympy import *\n",
      ">>> x, y, z, t = symbols('x y z t')\n",
      ">>> k, m, n = symbols('k m n', integer=True)\n",
      ">>> f, g, h = symbols('f g h', cls=Function)\n",
      ">>> init_printing()\n",
      "\n",
      "Documentation can be found at http://docs.sympy.org/1.2/\n",
      "\n"
     ]
    }
   ],
   "source": [
    "from sympy import init_session\n",
    "init_session()\n",
    "from sympy import *\n",
    "from sympy.functions import transpose"
   ]
  },
  {
   "cell_type": "code",
   "execution_count": 12,
   "metadata": {},
   "outputs": [],
   "source": [
    "E = MatrixSymbol('E', 3, 3)"
   ]
  },
  {
   "cell_type": "code",
   "execution_count": 48,
   "metadata": {},
   "outputs": [
    {
     "data": {
      "text/latex": [
       "$$\\left[\\begin{matrix}2 E_{0, 0}^{3} + 2 E_{0, 0} E_{0, 1}^{2} + 2 E_{0, 0} E_{0, 2}^{2} + 2 E_{0, 0} E_{1, 0}^{2} + 2 E_{0, 0} E_{2, 0}^{2} - E_{0, 0} Trace(E*E.T) + 2 E_{0, 1} E_{1, 0} E_{1, 1} + 2 E_{0, 1} E_{2, 0} E_{2, 1} + 2 E_{0, 2} E_{1, 0} E_{1, 2} + 2 E_{0, 2} E_{2, 0} E_{2, 2} & 2 E_{0, 0}^{2} E_{0, 1} + 2 E_{0, 0} E_{1, 0} E_{1, 1} + 2 E_{0, 0} E_{2, 0} E_{2, 1} + 2 E_{0, 1}^{3} + 2 E_{0, 1} E_{0, 2}^{2} + 2 E_{0, 1} E_{1, 1}^{2} + 2 E_{0, 1} E_{2, 1}^{2} - E_{0, 1} Trace(E*E.T) + 2 E_{0, 2} E_{1, 1} E_{1, 2} + 2 E_{0, 2} E_{2, 1} E_{2, 2} & 2 E_{0, 0}^{2} E_{0, 2} + 2 E_{0, 0} E_{1, 0} E_{1, 2} + 2 E_{0, 0} E_{2, 0} E_{2, 2} + 2 E_{0, 1}^{2} E_{0, 2} + 2 E_{0, 1} E_{1, 1} E_{1, 2} + 2 E_{0, 1} E_{2, 1} E_{2, 2} + 2 E_{0, 2}^{3} + 2 E_{0, 2} E_{1, 2}^{2} + 2 E_{0, 2} E_{2, 2}^{2} - E_{0, 2} Trace(E*E.T)\\\\2 E_{0, 0}^{2} E_{1, 0} + 2 E_{0, 0} E_{0, 1} E_{1, 1} + 2 E_{0, 0} E_{0, 2} E_{1, 2} + 2 E_{1, 0}^{3} + 2 E_{1, 0} E_{1, 1}^{2} + 2 E_{1, 0} E_{1, 2}^{2} + 2 E_{1, 0} E_{2, 0}^{2} - E_{1, 0} Trace(E*E.T) + 2 E_{1, 1} E_{2, 0} E_{2, 1} + 2 E_{1, 2} E_{2, 0} E_{2, 2} & 2 E_{0, 0} E_{0, 1} E_{1, 0} + 2 E_{0, 1}^{2} E_{1, 1} + 2 E_{0, 1} E_{0, 2} E_{1, 2} + 2 E_{1, 0}^{2} E_{1, 1} + 2 E_{1, 0} E_{2, 0} E_{2, 1} + 2 E_{1, 1}^{3} + 2 E_{1, 1} E_{1, 2}^{2} + 2 E_{1, 1} E_{2, 1}^{2} - E_{1, 1} Trace(E*E.T) + 2 E_{1, 2} E_{2, 1} E_{2, 2} & 2 E_{0, 0} E_{0, 2} E_{1, 0} + 2 E_{0, 1} E_{0, 2} E_{1, 1} + 2 E_{0, 2}^{2} E_{1, 2} + 2 E_{1, 0}^{2} E_{1, 2} + 2 E_{1, 0} E_{2, 0} E_{2, 2} + 2 E_{1, 1}^{2} E_{1, 2} + 2 E_{1, 1} E_{2, 1} E_{2, 2} + 2 E_{1, 2}^{3} + 2 E_{1, 2} E_{2, 2}^{2} - E_{1, 2} Trace(E*E.T)\\\\2 E_{0, 0}^{2} E_{2, 0} + 2 E_{0, 0} E_{0, 1} E_{2, 1} + 2 E_{0, 0} E_{0, 2} E_{2, 2} + 2 E_{1, 0}^{2} E_{2, 0} + 2 E_{1, 0} E_{1, 1} E_{2, 1} + 2 E_{1, 0} E_{1, 2} E_{2, 2} + 2 E_{2, 0}^{3} + 2 E_{2, 0} E_{2, 1}^{2} + 2 E_{2, 0} E_{2, 2}^{2} - E_{2, 0} Trace(E*E.T) & 2 E_{0, 0} E_{0, 1} E_{2, 0} + 2 E_{0, 1}^{2} E_{2, 1} + 2 E_{0, 1} E_{0, 2} E_{2, 2} + 2 E_{1, 0} E_{1, 1} E_{2, 0} + 2 E_{1, 1}^{2} E_{2, 1} + 2 E_{1, 1} E_{1, 2} E_{2, 2} + 2 E_{2, 0}^{2} E_{2, 1} + 2 E_{2, 1}^{3} + 2 E_{2, 1} E_{2, 2}^{2} - E_{2, 1} Trace(E*E.T) & 2 E_{0, 0} E_{0, 2} E_{2, 0} + 2 E_{0, 1} E_{0, 2} E_{2, 1} + 2 E_{0, 2}^{2} E_{2, 2} + 2 E_{1, 0} E_{1, 2} E_{2, 0} + 2 E_{1, 1} E_{1, 2} E_{2, 1} + 2 E_{1, 2}^{2} E_{2, 2} + 2 E_{2, 0}^{2} E_{2, 2} + 2 E_{2, 1}^{2} E_{2, 2} + 2 E_{2, 2}^{3} - E_{2, 2} Trace(E*E.T)\\end{matrix}\\right]$$"
      ],
      "text/plain": [
       "⎡     3            2            2            2            2         ⎛   T⎞    \n",
       "⎢2⋅E₀₀  + 2⋅E₀₀⋅E₀₁  + 2⋅E₀₀⋅E₀₂  + 2⋅E₀₀⋅E₁₀  + 2⋅E₀₀⋅E₂₀  - E₀₀⋅tr⎝E⋅E ⎠ + 2\n",
       "⎢                                                                             \n",
       "⎢     2                                            3            2            2\n",
       "⎢2⋅E₀₀ ⋅E₁₀ + 2⋅E₀₀⋅E₀₁⋅E₁₁ + 2⋅E₀₀⋅E₀₂⋅E₁₂ + 2⋅E₁₀  + 2⋅E₁₀⋅E₁₁  + 2⋅E₁₀⋅E₁₂ \n",
       "⎢                                                                             \n",
       "⎢     2                                            2                          \n",
       "⎣2⋅E₀₀ ⋅E₂₀ + 2⋅E₀₀⋅E₀₁⋅E₂₁ + 2⋅E₀₀⋅E₀₂⋅E₂₂ + 2⋅E₁₀ ⋅E₂₀ + 2⋅E₁₀⋅E₁₁⋅E₂₁ + 2⋅E\n",
       "\n",
       "                                                                   2          \n",
       "⋅E₀₁⋅E₁₀⋅E₁₁ + 2⋅E₀₁⋅E₂₀⋅E₂₁ + 2⋅E₀₂⋅E₁₀⋅E₁₂ + 2⋅E₀₂⋅E₂₀⋅E₂₂  2⋅E₀₀ ⋅E₀₁ + 2⋅E\n",
       "                                                                              \n",
       "            2         ⎛   T⎞                                                  \n",
       " + 2⋅E₁₀⋅E₂₀  - E₁₀⋅tr⎝E⋅E ⎠ + 2⋅E₁₁⋅E₂₀⋅E₂₁ + 2⋅E₁₂⋅E₂₀⋅E₂₂  2⋅E₀₀⋅E₀₁⋅E₁₀ + \n",
       "                                                                              \n",
       "                  3            2            2         ⎛   T⎞                  \n",
       "₁₀⋅E₁₂⋅E₂₂ + 2⋅E₂₀  + 2⋅E₂₀⋅E₂₁  + 2⋅E₂₀⋅E₂₂  - E₂₀⋅tr⎝E⋅E ⎠  2⋅E₀₀⋅E₀₁⋅E₂₀ + \n",
       "\n",
       "                                  3            2            2            2    \n",
       "₀₀⋅E₁₀⋅E₁₁ + 2⋅E₀₀⋅E₂₀⋅E₂₁ + 2⋅E₀₁  + 2⋅E₀₁⋅E₀₂  + 2⋅E₀₁⋅E₁₁  + 2⋅E₀₁⋅E₂₁  - E\n",
       "                                                                              \n",
       "     2                            2                            3            2 \n",
       "2⋅E₀₁ ⋅E₁₁ + 2⋅E₀₁⋅E₀₂⋅E₁₂ + 2⋅E₁₀ ⋅E₁₁ + 2⋅E₁₀⋅E₂₀⋅E₂₁ + 2⋅E₁₁  + 2⋅E₁₁⋅E₁₂  \n",
       "                                                                              \n",
       "     2                                            2                           \n",
       "2⋅E₀₁ ⋅E₂₁ + 2⋅E₀₁⋅E₀₂⋅E₂₂ + 2⋅E₁₀⋅E₁₁⋅E₂₀ + 2⋅E₁₁ ⋅E₂₁ + 2⋅E₁₁⋅E₁₂⋅E₂₂ + 2⋅E₂\n",
       "\n",
       "     ⎛   T⎞                                       2                           \n",
       "₀₁⋅tr⎝E⋅E ⎠ + 2⋅E₀₂⋅E₁₁⋅E₁₂ + 2⋅E₀₂⋅E₂₁⋅E₂₂  2⋅E₀₀ ⋅E₀₂ + 2⋅E₀₀⋅E₁₀⋅E₁₂ + 2⋅E₀\n",
       "                                                                              \n",
       "           2         ⎛   T⎞                                                   \n",
       "+ 2⋅E₁₁⋅E₂₁  - E₁₁⋅tr⎝E⋅E ⎠ + 2⋅E₁₂⋅E₂₁⋅E₂₂  2⋅E₀₀⋅E₀₂⋅E₁₀ + 2⋅E₀₁⋅E₀₂⋅E₁₁ + 2\n",
       "                                                                              \n",
       " 2            3            2         ⎛   T⎞                                   \n",
       "₀ ⋅E₂₁ + 2⋅E₂₁  + 2⋅E₂₁⋅E₂₂  - E₂₁⋅tr⎝E⋅E ⎠  2⋅E₀₀⋅E₀₂⋅E₂₀ + 2⋅E₀₁⋅E₀₂⋅E₂₁ + 2\n",
       "\n",
       "                 2                                            3            2  \n",
       "₀⋅E₂₀⋅E₂₂ + 2⋅E₀₁ ⋅E₀₂ + 2⋅E₀₁⋅E₁₁⋅E₁₂ + 2⋅E₀₁⋅E₂₁⋅E₂₂ + 2⋅E₀₂  + 2⋅E₀₂⋅E₁₂  +\n",
       "                                                                              \n",
       "    2            2                            2                            3  \n",
       "⋅E₀₂ ⋅E₁₂ + 2⋅E₁₀ ⋅E₁₂ + 2⋅E₁₀⋅E₂₀⋅E₂₂ + 2⋅E₁₁ ⋅E₁₂ + 2⋅E₁₁⋅E₂₁⋅E₂₂ + 2⋅E₁₂  +\n",
       "                                                                              \n",
       "    2                                            2            2            2  \n",
       "⋅E₀₂ ⋅E₂₂ + 2⋅E₁₀⋅E₁₂⋅E₂₀ + 2⋅E₁₁⋅E₁₂⋅E₂₁ + 2⋅E₁₂ ⋅E₂₂ + 2⋅E₂₀ ⋅E₂₂ + 2⋅E₂₁ ⋅E\n",
       "\n",
       "          2         ⎛   T⎞⎤\n",
       " 2⋅E₀₂⋅E₂₂  - E₀₂⋅tr⎝E⋅E ⎠⎥\n",
       "                          ⎥\n",
       "          2         ⎛   T⎞⎥\n",
       " 2⋅E₁₂⋅E₂₂  - E₁₂⋅tr⎝E⋅E ⎠⎥\n",
       "                          ⎥\n",
       "          3         ⎛   T⎞⎥\n",
       "₂₂ + 2⋅E₂₂  - E₂₂⋅tr⎝E⋅E ⎠⎦"
      ]
     },
     "execution_count": 48,
     "metadata": {},
     "output_type": "execute_result"
    }
   ],
   "source": [
    "#expr = 2*E*transpose(E)*E - Trace(E*transpose(E))*E\n",
    "#expr = trace(E)\n",
    "expr = 2*E*transpose(E)*E - trace(E*transpose(E))*E\n",
    "a = Matrix(expr).expand()\n",
    "a"
   ]
  },
  {
   "cell_type": "code",
   "execution_count": null,
   "metadata": {},
   "outputs": [],
   "source": []
  },
  {
   "cell_type": "code",
   "execution_count": null,
   "metadata": {},
   "outputs": [],
   "source": [
    "k1 = A*x\n",
    "k2 = A*(x + S(1)/2*k1*dt)\n",
    "k3 = A*(x + S(1)/2*k2*dt)\n",
    "k4 = A*(x + k3*dt)\n",
    "final = dt*S(1)/6*(k1 + k2 + k3 + k4)\n",
    "Matrix(final).expand()"
   ]
  }
 ],
 "metadata": {
  "kernelspec": {
   "display_name": "Python 3",
   "language": "python",
   "name": "python3"
  },
  "language_info": {
   "codemirror_mode": {
    "name": "ipython",
    "version": 3
   },
   "file_extension": ".py",
   "mimetype": "text/x-python",
   "name": "python",
   "nbconvert_exporter": "python",
   "pygments_lexer": "ipython3",
   "version": "3.8.2"
  }
 },
 "nbformat": 4,
 "nbformat_minor": 4
}
