{
 "cells": [
  {
   "cell_type": "code",
   "execution_count": 1,
   "metadata": {},
   "outputs": [],
   "source": [
    "from sympy import Matrix, MatrixSymbol, Function\n",
    "from sympy import Symbol, Eq, Trace, sqrt\n",
    "from sympy import init_printing, sympify\n",
    "from sympy.matrices import eye\n",
    "init_printing()\n",
    "from IPython.display import display, Markdown, Latex"
   ]
  },
  {
   "cell_type": "code",
   "execution_count": 9,
   "metadata": {},
   "outputs": [],
   "source": [
    "p1 = MatrixSymbol('a', 1, 3)\n",
    "F = MatrixSymbol('E', 3, 3)\n",
    "p2 = MatrixSymbol('b', 3, 1)"
   ]
  },
  {
   "cell_type": "code",
   "execution_count": 10,
   "metadata": {},
   "outputs": [
    {
     "data": {
      "text/latex": [
       "$$\\left[\\begin{array}{c}E_{0, 0} a_{0, 0} b_{0, 0} + E_{0, 1} a_{0, 0} b_{1, 0} + E_{0, 2} a_{0, 0} b_{2, 0} + E_{1, 0} a_{0, 1} b_{0, 0} + E_{1, 1} a_{0, 1} b_{1, 0} + E_{1, 2} a_{0, 1} b_{2, 0} + E_{2, 0} a_{0, 2} b_{0, 0} + E_{2, 1} a_{0, 2} b_{1, 0} + E_{2, 2} a_{0, 2} b_{2, 0}\\end{array}\\right]$$"
      ],
      "text/plain": [
       "[E₀₀⋅a₀₀⋅b₀₀ + E₀₁⋅a₀₀⋅b₁₀ + E₀₂⋅a₀₀⋅b₂₀ + E₁₀⋅a₀₁⋅b₀₀ + E₁₁⋅a₀₁⋅b₁₀ + E₁₂⋅a₀₁\n",
       "⋅b₂₀ + E₂₀⋅a₀₂⋅b₀₀ + E₂₁⋅a₀₂⋅b₁₀ + E₂₂⋅a₀₂⋅b₂₀]"
      ]
     },
     "execution_count": 10,
     "metadata": {},
     "output_type": "execute_result"
    }
   ],
   "source": [
    "Matrix(p1*F*p2)"
   ]
  },
  {
   "cell_type": "code",
   "execution_count": 21,
   "metadata": {},
   "outputs": [
    {
     "data": {
      "text/latex": [
       "$$\\left[\\begin{matrix}E_{0, 0}\\\\E_{0, 1}\\\\E_{0, 2}\\\\E_{1, 0}\\\\E_{1, 1}\\\\E_{1, 2}\\\\E_{2, 0}\\\\E_{2, 1}\\\\E_{2, 2}\\end{matrix}\\right]$$"
      ],
      "text/plain": [
       "⎡E₀₀⎤\n",
       "⎢   ⎥\n",
       "⎢E₀₁⎥\n",
       "⎢   ⎥\n",
       "⎢E₀₂⎥\n",
       "⎢   ⎥\n",
       "⎢E₁₀⎥\n",
       "⎢   ⎥\n",
       "⎢E₁₁⎥\n",
       "⎢   ⎥\n",
       "⎢E₁₂⎥\n",
       "⎢   ⎥\n",
       "⎢E₂₀⎥\n",
       "⎢   ⎥\n",
       "⎢E₂₁⎥\n",
       "⎢   ⎥\n",
       "⎣E₂₂⎦"
      ]
     },
     "execution_count": 21,
     "metadata": {},
     "output_type": "execute_result"
    }
   ],
   "source": [
    "p1m = Matrix(p1)\n",
    "Fm = Matrix(F)\n",
    "p2m = Matrix(p2)\n",
    "\n",
    "Fmr = Matrix(list(Fm))\n",
    "Fmr"
   ]
  },
  {
   "cell_type": "code",
   "execution_count": 23,
   "metadata": {},
   "outputs": [
    {
     "data": {
      "text/latex": [
       "$$\\left[\\begin{matrix}E_{0, 0} a_{0, 0} b_{0, 0} + E_{0, 1} a_{0, 0} b_{1, 0} + E_{0, 2} a_{0, 0} b_{2, 0} + E_{1, 0} a_{0, 1} b_{0, 0} + E_{1, 1} a_{0, 1} b_{1, 0} + E_{1, 2} a_{0, 1} b_{2, 0} + E_{2, 0} a_{0, 2} b_{0, 0} + E_{2, 1} a_{0, 2} b_{1, 0} + E_{2, 2} a_{0, 2} b_{2, 0}\\end{matrix}\\right]$$"
      ],
      "text/plain": [
       "[E₀₀⋅a₀₀⋅b₀₀ + E₀₁⋅a₀₀⋅b₁₀ + E₀₂⋅a₀₀⋅b₂₀ + E₁₀⋅a₀₁⋅b₀₀ + E₁₁⋅a₀₁⋅b₁₀ + E₁₂⋅a₀₁\n",
       "⋅b₂₀ + E₂₀⋅a₀₂⋅b₀₀ + E₂₁⋅a₀₂⋅b₁₀ + E₂₂⋅a₀₂⋅b₂₀]"
      ]
     },
     "execution_count": 23,
     "metadata": {},
     "output_type": "execute_result"
    }
   ],
   "source": [
    "Matrix([\n",
    "        p1m[0]*p2m[0], \n",
    "        p1m[0]*p2m[1],\n",
    "        p1m[0]*p2m[2],\n",
    "        p1m[1]*p2m[0],\n",
    "        p1m[1]*p2m[1],\n",
    "        p1m[1]*p2m[2],\n",
    "        p1m[2]*p2m[0],\n",
    "        p1m[2]*p2m[1],\n",
    "        p1m[2]*p2m[2],\n",
    "    ]).transpose() * Fmr"
   ]
  }
 ],
 "metadata": {
  "kernelspec": {
   "display_name": "Python 3",
   "language": "python",
   "name": "python3"
  },
  "language_info": {
   "codemirror_mode": {
    "name": "ipython",
    "version": 3
   },
   "file_extension": ".py",
   "mimetype": "text/x-python",
   "name": "python",
   "nbconvert_exporter": "python",
   "pygments_lexer": "ipython3",
   "version": "3.8.2"
  }
 },
 "nbformat": 4,
 "nbformat_minor": 2
}
