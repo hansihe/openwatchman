{
 "cells": [
  {
   "cell_type": "markdown",
   "metadata": {},
   "source": [
    "## Glossary\n",
    "* tbss problem: two-basestation-sensor problem\n",
    "* bs: basestation (also referred to as cameras, analogous to a camera in photogrammetry)\n",
    "* baseline: line between the two basestations\n",
    "* fov: field of view\n",
    "* world: Our mathematical model of the world. Presumably contains the positions of the BSes and sensors.\n",
    "* baseline: the vector between the optical centers of our two lighthouses\n",
    "\n",
    "**Note: This is very very similar to photogrammetry in several areas, and a lot of the ideas, solutions and terminology is taken from that field.**\n",
    "\n",
    "## TBSS problem\n",
    "The TBSS problem consists of two BSes at random positions and rotations. Due to real life physics, BS positions cannot be coincident.\n",
    "\n",
    "The TBSS problem is a problem of 5 unknowns:\n",
    "* 3 variables in relative orientation between the BSes.\n",
    "* 2 variables in the baseline\n",
    "\n",
    "There are several things we can't figure out without any further infomation:\n",
    "* The down direction in the world. This can be constrained by getting a single reference down direction.\n",
    "* The scale of the world. This can be constrained by getting the distance between two measured points in the world. (BS to sensor, sensor to sensor, BS to BS)\n",
    "\n",
    "### Base station down vector\n",
    "**As is, it seems like the down vector only has one working axis. The other two are broken. While the one dimention can still be used, it doesn't provide many advantages, and I probably won't bother.**\n",
    "\n",
    "As it turns out, the ootx block gives us a down vector for both BSes. This can be utilized to reduce the unknowns by 2, and constrain the absolute orientation to our world.\n",
    "\n",
    "When we constrain the rotation of a single BS at an axis, we reduce the 3 unknowns in the orientation of the BS to 1 (the rotation around that axis). Since the down vector of the first BS and second BS should be parallel, this will constrain the relative orientation of the two BSes to 1 axis.\n",
    "\n",
    "This will reduce our total number of variables to solve for to 3.\n",
    "\n",
    "### Improvements\n",
    "Because the TBSS problem only considers one sample point, we lose some potentially useful information in systems with multiple sensors.\n",
    "\n",
    "If the geometric relationships between different sensors in the system are known, this knowledge can be applied as constraints when solving the system.\n",
    "\n",
    "## Working towards a solution to the TBSS problem\n",
    "\n",
    "### Coplanarity condition\n",
    "\n",
    "The central theorem we will be using is the coplanarity condition.\n",
    "\n",
    "If we have one ray coming out of BS A $x_a$ and hitting a point, and another ray from BS B $x_b$ and hitting the same point, we observe that $x_a$, $x_b$ and the basis vector $B$ will lie on the same plane.\n",
    "\n",
    "When three vectors lie on a plane, the triple product of the three will be equal to zero. We can hence state that when our three vectors $x_a$, $x_b$ and $B$ lie on a plane, they will satisfy $[x_a x_b B] = x_a \\cdot (x_b \\times B) = 0$.\n"
   ]
  },
  {
   "cell_type": "markdown",
   "metadata": {},
   "source": [
    "## Context\n",
    "\n",
    "This is the procedure I came up with a solution of the essential matrix.\n",
    "\n",
    "Please note that my use-case is a bit of a special case compared to regular photogrammetry, namely. This is not very important, and is only meant to give some context:\n",
    "* \"Cameras\" are not actually cameras. They are a pair of laser beacons which are fixed at random positions and rotations around the room.\n",
    "* For each observed point, each of the the two beacons perform two scans, one horizontal and one vectical.\n",
    "* Given two laser scans from each of the two beacons, we are effectively given a pitch and yaw angle from both of the beacons.\n",
    "* The pitch and yaw observation from each beacon is converted to a homogenous coordinate using $p = \\begin{bmatrix} sin(o_{pitch}) && -sin(o_{yaw}) \\times cos(o_{pitch}) && cos(o_{yaw}) \\times cos(o_{pitch}) \\end{bmatrix}^T$ where $o$ is the raw observation\n",
    "* **Each of the beacons is fully calibrated, and there are no \"intrinsics\" that need to be estimated.**\n",
    "\n",
    "## Procedure\n",
    "\n",
    "\n",
    "### Initial estimate of Fundimental matrix\n",
    "1. $p'Fp=0$ is our observation equation, where $p'$ is the ray from the left and $p$ is the ray from the right camera (both in homogenous coordinates).\n",
    "2. Rewrite $p'Fp=0$ into the form $Gf=0$, where $f$ is the column vector form of $F$, and $G$ is a row vector.\n",
    "3. Add all points we want to solve for to $G$ in the form\n",
    "$$G = \\begin{bmatrix}\n",
    "x_0x'_0 & x_0y'_0 & x_0 & y_0x'_0 & y_0y'_0 & y_0 & x'_0 & y'_0 & 1 \\\\\n",
    "\\vdots \\\\\n",
    "x_nx'_n & x_ny'_n & x_n & y_nx'_n & y_ny'_n & y_n & x'_n & y'_n & 1\n",
    "\\end{bmatrix}$$\n",
    "4. Find a least squares non trivial solution to $Gf=0$ using SVD.\n",
    "5. (Possibly enforce rank 2 of the matrix using SVD and setting smallest singular value to 0?)\n",
    "6. $F$ is our initial solution to the fundimental matrix\n",
    "\n",
    "### Iterative numerical optimization of estimate to Essential matrix\n",
    "1. The essential matrix is defined as a 3x3 matrix $E$ with the following two constraints:\n",
    "    1. $|E| = 0$\n",
    "    2. $2EE^TE - tr(EE^T)E = 0$\n",
    "2. Set our initial estimate $e_0 = F$ from above. \n",
    "3. Introduce the two constraints to an equation using lagrange multipliers:\n",
    "$$f(E) = (Ge)^TGe + \\sigma_1|E|^2 + \\sigma_2(2EE^TE-tr(EE^T)E)^2$$\n",
    "4. Calculate $\\frac{\\Delta f}{\\Delta E}$, and utilize to numerically optimize\n",
    "5. Since we presume our estimate is relatively close to our final solution, I would think using Gauss-Newton is good enough? (Right now I am just doing gradient descent as a test, which seems to work relatively well, although too slow for my use in general)\n",
    "\n",
    "\n",
    "## Questions\n",
    "\n",
    "* I think my general approach makes at least some sense. When testing on real data, I get a fair solution to F using the first part. The second part seems to improve the solution, and my residual drops very small after some iterations. Extracting a rotation matrix and translation, and doing ray-ray intersection does produce nice looking data.\n",
    "* Is there anything I seem to have misunderstood or that looks iffy?\n",
    "* There is not a lot of information on the internet as to how lagrange multipliers are best applied when doing numerical opsimization. I am using 1 as my initial condition for both lagrange multipliers. Does this make sense? Are there better ways of doing it?\n",
    "* Right now I am using sympy for deriving equations and numpy/scipy for initial implementation. I have heard good things about mathematica for doing exploration like this, is it recommended?\n",
    "\n",
    "## Random stuff used in derivations\n",
    "\n",
    "### Length of vector squared\n",
    "Used to simplify $(Ge)^TGe$ into something easily computable.\n",
    "$$||\\vec{a_n}||^2 = \\sqrt{\\sum_{i=1}^{n} a_i^2}^2 = \\sum_{i=1}^{n} a_i^2$$"
   ]
  },
  {
   "cell_type": "code",
   "execution_count": 2,
   "metadata": {},
   "outputs": [],
   "source": [
    "from sympy import Matrix, MatrixSymbol, Function\n",
    "from sympy import Symbol, Eq, Trace, sqrt\n",
    "from sympy import init_printing, sympify\n",
    "from sympy.matrices import eye\n",
    "init_printing()\n",
    "from IPython.display import display, Markdown, Latex"
   ]
  },
  {
   "cell_type": "code",
   "execution_count": 3,
   "metadata": {},
   "outputs": [
    {
     "data": {
      "image/png": "[encoded data removed]",
      "text/latex": [
       "$$\\frac{d}{d e} a{\\left (e \\right )} + \\frac{\\partial}{\\partial e} b{\\left (e,o_{1} \\right )} + \\frac{\\partial}{\\partial e} c{\\left (e,o_{2} \\right )} + \\frac{\\partial}{\\partial e} d{\\left (e,o_{3} \\right )}$$"
      ],
      "text/plain": [
       "d          ∂              ∂              ∂           \n",
       "──(a(e)) + ──(b(e, o₁)) + ──(c(e, o₂)) + ──(d(e, o₃))\n",
       "de         ∂e             ∂e             ∂e          "
      ]
     },
     "execution_count": 3,
     "metadata": {},
     "output_type": "execute_result"
    }
   ],
   "source": [
    "e = Symbol('e')\n",
    "o1 = Symbol('o1')\n",
    "o2 = Symbol('o2')\n",
    "o3 = Symbol('o3')\n",
    "\n",
    "a = Function('a')(e)\n",
    "b = Function('b')(e, o1)\n",
    "c = Function('c')(e, o2)\n",
    "d = Function('d')(e, o3)\n",
    "\n",
    "f = a + b + c + d\n",
    "\n",
    "f.diff(e)"
   ]
  },
  {
   "cell_type": "code",
   "execution_count": 4,
   "metadata": {},
   "outputs": [],
   "source": [
    "Es = MatrixSymbol('E', 3, 3)\n",
    "E = Matrix(Es)\n",
    "e = Matrix(list(E))\n",
    "\n",
    "o1 = Symbol('o1')\n",
    "o2 = Symbol('o2')\n",
    "\n",
    "Y = MatrixSymbol('Y', 5, 9)\n",
    "Yi = Matrix(MatrixSymbol('Y', 1, 9))"
   ]
  },
  {
   "cell_type": "code",
   "execution_count": 5,
   "metadata": {},
   "outputs": [
    {
     "data": {
      "text/markdown": [
       "## Derivative of a(e)"
      ],
      "text/plain": [
       "<IPython.core.display.Markdown object>"
      ]
     },
     "metadata": {},
     "output_type": "display_data"
    },
    {
     "name": "stdout",
     "output_type": "stream",
     "text": [
      "Diff e0\n"
     ]
    },
    {
     "data": {
      "text/latex": [
       "$$\\left[\\begin{matrix}Y_{0, 0} & Y_{1, 0} & Y_{2, 0} & Y_{3, 0} & Y_{4, 0}\\end{matrix}\\right]$$"
      ],
      "text/plain": [
       "[Y₀₀  Y₁₀  Y₂₀  Y₃₀  Y₄₀]"
      ]
     },
     "metadata": {},
     "output_type": "display_data"
    },
    {
     "name": "stdout",
     "output_type": "stream",
     "text": [
      "Diff e1\n"
     ]
    },
    {
     "data": {
      "text/latex": [
       "$$\\left[\\begin{matrix}Y_{0, 1} & Y_{1, 1} & Y_{2, 1} & Y_{3, 1} & Y_{4, 1}\\end{matrix}\\right]$$"
      ],
      "text/plain": [
       "[Y₀₁  Y₁₁  Y₂₁  Y₃₁  Y₄₁]"
      ]
     },
     "metadata": {},
     "output_type": "display_data"
    },
    {
     "data": {
      "image/png": "[encoded data removed]",
      "text/latex": [
       "$$\\left(E_{0, 0} Y_{0, 0} + E_{0, 1} Y_{0, 1} + E_{0, 2} Y_{0, 2} + E_{1, 0} Y_{0, 3} + E_{1, 1} Y_{0, 4} + E_{1, 2} Y_{0, 5} + E_{2, 0} Y_{0, 6} + E_{2, 1} Y_{0, 7} + E_{2, 2} Y_{0, 8}\\right)^{2}$$"
      ],
      "text/plain": [
       "                                                                              \n",
       "(E₀₀⋅Y₀₀ + E₀₁⋅Y₀₁ + E₀₂⋅Y₀₂ + E₁₀⋅Y₀₃ + E₁₁⋅Y₀₄ + E₁₂⋅Y₀₅ + E₂₀⋅Y₀₆ + E₂₁⋅Y₀₇\n",
       "\n",
       "           2\n",
       " + E₂₂⋅Y₀₈) "
      ]
     },
     "execution_count": 5,
     "metadata": {},
     "output_type": "execute_result"
    }
   ],
   "source": [
    "display(Markdown(\"## Derivative of a(e)\"))\n",
    "\n",
    "print(\"Diff e0\")\n",
    "display(Matrix(Y*e).diff(Matrix(e)[0]).transpose())\n",
    "print(\"Diff e1\")\n",
    "display(Matrix(Y*e).diff(Matrix(e)[1]).transpose())\n",
    "\n",
    "eq_a_i_v = Yi*e\n",
    "assert(len(eq_a_i_v) == 1)\n",
    "\n",
    "eq_a_i = (eq_a_i_v[0]*eq_a_i_v[0])\n",
    "eq_a_i"
   ]
  },
  {
   "cell_type": "code",
   "execution_count": 6,
   "metadata": {},
   "outputs": [
    {
     "data": {
      "text/markdown": [
       "## Derivative of b(e, o1)"
      ],
      "text/plain": [
       "<IPython.core.display.Markdown object>"
      ]
     },
     "metadata": {},
     "output_type": "display_data"
    },
    {
     "data": {
      "image/png": "[encoded data removed]",
      "text/latex": [
       "$$\\left(E_{0, 0} E_{1, 1} E_{2, 2} - E_{0, 0} E_{1, 2} E_{2, 1} - E_{0, 1} E_{1, 0} E_{2, 2} + E_{0, 1} E_{1, 2} E_{2, 0} + E_{0, 2} E_{1, 0} E_{2, 1} - E_{0, 2} E_{1, 1} E_{2, 0}\\right)^{2}$$"
      ],
      "text/plain": [
       "                                                                              \n",
       "(E₀₀⋅E₁₁⋅E₂₂ - E₀₀⋅E₁₂⋅E₂₁ - E₀₁⋅E₁₀⋅E₂₂ + E₀₁⋅E₁₂⋅E₂₀ + E₀₂⋅E₁₀⋅E₂₁ - E₀₂⋅E₁₁\n",
       "\n",
       "     2\n",
       "⋅E₂₀) "
      ]
     },
     "execution_count": 6,
     "metadata": {},
     "output_type": "execute_result"
    }
   ],
   "source": [
    "display(Markdown(\"## Derivative of b(e, o1)\"))\n",
    "\n",
    "#E = MatrixSymbol('E', 3, 3)\n",
    "\n",
    "eq_b = (o1*E.det()**2)\n",
    "eq_b.diff(o1)"
   ]
  },
  {
   "cell_type": "code",
   "execution_count": 7,
   "metadata": {
    "scrolled": true
   },
   "outputs": [
    {
     "data": {
      "text/markdown": [
       "## c(e, o2)"
      ],
      "text/plain": [
       "<IPython.core.display.Markdown object>"
      ]
     },
     "metadata": {},
     "output_type": "display_data"
    },
    {
     "data": {
      "image/png": "[encoded data removed]",
      "text/latex": [
       "$$o_{2} \\left(\\left(4 E_{0, 0} E_{0, 1} + 4 E_{1, 0} E_{1, 1} + 4 E_{2, 0} E_{2, 1}\\right) \\left(E_{0, 0}^{3} + E_{0, 0} E_{0, 1}^{2} + E_{0, 0} E_{0, 2}^{2} + 2 E_{0, 0} E_{1, 0}^{2} + 2 E_{0, 0} E_{2, 0}^{2} + 2 E_{0, 1} E_{1, 0} E_{1, 1} + 2 E_{0, 1} E_{2, 0} E_{2, 1} + 2 E_{0, 2} E_{1, 0} E_{1, 2} + 2 E_{0, 2} E_{2, 0} E_{2, 2}\\right) + \\left(4 E_{0, 0} E_{1, 0} + 8 E_{0, 1} E_{1, 1} + 4 E_{0, 2} E_{1, 2}\\right) \\left(2 E_{0, 0} E_{0, 1} E_{1, 0} + 2 E_{0, 1}^{2} E_{1, 1} + 2 E_{0, 1} E_{0, 2} E_{1, 2} + E_{1, 0}^{2} E_{1, 1} + 2 E_{1, 0} E_{2, 0} E_{2, 1} + E_{1, 1}^{3} + E_{1, 1} E_{1, 2}^{2} + 2 E_{1, 1} E_{2, 1}^{2} + 2 E_{1, 2} E_{2, 1} E_{2, 2}\\right) + \\left(4 E_{0, 0} E_{2, 0} + 8 E_{0, 1} E_{2, 1} + 4 E_{0, 2} E_{2, 2}\\right) \\left(2 E_{0, 0} E_{0, 1} E_{2, 0} + 2 E_{0, 1}^{2} E_{2, 1} + 2 E_{0, 1} E_{0, 2} E_{2, 2} + 2 E_{1, 0} E_{1, 1} E_{2, 0} + 2 E_{1, 1}^{2} E_{2, 1} + 2 E_{1, 1} E_{1, 2} E_{2, 2} + E_{2, 0}^{2} E_{2, 1} + E_{2, 1}^{3} + E_{2, 1} E_{2, 2}^{2}\\right) + \\left(4 E_{0, 1} E_{0, 2} + 4 E_{1, 1} E_{1, 2} + 4 E_{2, 1} E_{2, 2}\\right) \\left(E_{0, 0}^{2} E_{0, 2} + 2 E_{0, 0} E_{1, 0} E_{1, 2} + 2 E_{0, 0} E_{2, 0} E_{2, 2} + E_{0, 1}^{2} E_{0, 2} + 2 E_{0, 1} E_{1, 1} E_{1, 2} + 2 E_{0, 1} E_{2, 1} E_{2, 2} + E_{0, 2}^{3} + 2 E_{0, 2} E_{1, 2}^{2} + 2 E_{0, 2} E_{2, 2}^{2}\\right) + \\left(2 E_{0, 0}^{2} + 6 E_{0, 1}^{2} + 2 E_{0, 2}^{2} + 4 E_{1, 1}^{2} + 4 E_{2, 1}^{2}\\right) \\left(E_{0, 0}^{2} E_{0, 1} + 2 E_{0, 0} E_{1, 0} E_{1, 1} + 2 E_{0, 0} E_{2, 0} E_{2, 1} + E_{0, 1}^{3} + E_{0, 1} E_{0, 2}^{2} + 2 E_{0, 1} E_{1, 1}^{2} + 2 E_{0, 1} E_{2, 1}^{2} + 2 E_{0, 2} E_{1, 1} E_{1, 2} + 2 E_{0, 2} E_{2, 1} E_{2, 2}\\right) + 4 \\left(2 E_{0, 0}^{2} E_{1, 0} + 2 E_{0, 0} E_{0, 1} E_{1, 1} + 2 E_{0, 0} E_{0, 2} E_{1, 2} + E_{1, 0}^{3} + E_{1, 0} E_{1, 1}^{2} + E_{1, 0} E_{1, 2}^{2} + 2 E_{1, 0} E_{2, 0}^{2} + 2 E_{1, 1} E_{2, 0} E_{2, 1} + 2 E_{1, 2} E_{2, 0} E_{2, 2}\\right) E_{0, 0} E_{1, 1} + 4 \\left(2 E_{0, 0}^{2} E_{2, 0} + 2 E_{0, 0} E_{0, 1} E_{2, 1} + 2 E_{0, 0} E_{0, 2} E_{2, 2} + 2 E_{1, 0}^{2} E_{2, 0} + 2 E_{1, 0} E_{1, 1} E_{2, 1} + 2 E_{1, 0} E_{1, 2} E_{2, 2} + E_{2, 0}^{3} + E_{2, 0} E_{2, 1}^{2} + E_{2, 0} E_{2, 2}^{2}\\right) E_{0, 0} E_{2, 1} + 4 \\left(2 E_{0, 0} E_{0, 2} E_{1, 0} + 2 E_{0, 1} E_{0, 2} E_{1, 1} + 2 E_{0, 2}^{2} E_{1, 2} + E_{1, 0}^{2} E_{1, 2} + 2 E_{1, 0} E_{2, 0} E_{2, 2} + E_{1, 1}^{2} E_{1, 2} + 2 E_{1, 1} E_{2, 1} E_{2, 2} + E_{1, 2}^{3} + 2 E_{1, 2} E_{2, 2}^{2}\\right) E_{0, 2} E_{1, 1} + 4 \\left(2 E_{0, 0} E_{0, 2} E_{2, 0} + 2 E_{0, 1} E_{0, 2} E_{2, 1} + 2 E_{0, 2}^{2} E_{2, 2} + 2 E_{1, 0} E_{1, 2} E_{2, 0} + 2 E_{1, 1} E_{1, 2} E_{2, 1} + 2 E_{1, 2}^{2} E_{2, 2} + E_{2, 0}^{2} E_{2, 2} + E_{2, 1}^{2} E_{2, 2} + E_{2, 2}^{3}\\right) E_{0, 2} E_{2, 1}\\right)$$"
      ],
      "text/plain": [
       "   ⎛                                    ⎛   3          2          2           \n",
       "o₂⋅⎝(4⋅E₀₀⋅E₀₁ + 4⋅E₁₀⋅E₁₁ + 4⋅E₂₀⋅E₂₁)⋅⎝E₀₀  + E₀₀⋅E₀₁  + E₀₀⋅E₀₂  + 2⋅E₀₀⋅E₁\n",
       "\n",
       " 2            2                                                               \n",
       "₀  + 2⋅E₀₀⋅E₂₀  + 2⋅E₀₁⋅E₁₀⋅E₁₁ + 2⋅E₀₁⋅E₂₀⋅E₂₁ + 2⋅E₀₂⋅E₁₀⋅E₁₂ + 2⋅E₀₂⋅E₂₀⋅E₂\n",
       "\n",
       " ⎞                                       ⎛                     2              \n",
       "₂⎠ + (4⋅E₀₀⋅E₁₀ + 8⋅E₀₁⋅E₁₁ + 4⋅E₀₂⋅E₁₂)⋅⎝2⋅E₀₀⋅E₀₁⋅E₁₀ + 2⋅E₀₁ ⋅E₁₁ + 2⋅E₀₁⋅E\n",
       "\n",
       "            2                          3          2            2              \n",
       "₀₂⋅E₁₂ + E₁₀ ⋅E₁₁ + 2⋅E₁₀⋅E₂₀⋅E₂₁ + E₁₁  + E₁₁⋅E₁₂  + 2⋅E₁₁⋅E₂₁  + 2⋅E₁₂⋅E₂₁⋅E\n",
       "\n",
       "  ⎞                                       ⎛                     2             \n",
       "₂₂⎠ + (4⋅E₀₀⋅E₂₀ + 8⋅E₀₁⋅E₂₁ + 4⋅E₀₂⋅E₂₂)⋅⎝2⋅E₀₀⋅E₀₁⋅E₂₀ + 2⋅E₀₁ ⋅E₂₁ + 2⋅E₀₁⋅\n",
       "\n",
       "                               2                          2          3        \n",
       "E₀₂⋅E₂₂ + 2⋅E₁₀⋅E₁₁⋅E₂₀ + 2⋅E₁₁ ⋅E₂₁ + 2⋅E₁₁⋅E₁₂⋅E₂₂ + E₂₀ ⋅E₂₁ + E₂₁  + E₂₁⋅E\n",
       "\n",
       "  2⎞                                       ⎛   2                              \n",
       "₂₂ ⎠ + (4⋅E₀₁⋅E₀₂ + 4⋅E₁₁⋅E₁₂ + 4⋅E₂₁⋅E₂₂)⋅⎝E₀₀ ⋅E₀₂ + 2⋅E₀₀⋅E₁₀⋅E₁₂ + 2⋅E₀₀⋅E\n",
       "\n",
       "            2                                          3            2         \n",
       "₂₀⋅E₂₂ + E₀₁ ⋅E₀₂ + 2⋅E₀₁⋅E₁₁⋅E₁₂ + 2⋅E₀₁⋅E₂₁⋅E₂₂ + E₀₂  + 2⋅E₀₂⋅E₁₂  + 2⋅E₀₂⋅\n",
       "\n",
       "   2⎞   ⎛     2        2        2        2        2⎞ ⎛   2                    \n",
       "E₂₂ ⎠ + ⎝2⋅E₀₀  + 6⋅E₀₁  + 2⋅E₀₂  + 4⋅E₁₁  + 4⋅E₂₁ ⎠⋅⎝E₀₀ ⋅E₀₁ + 2⋅E₀₀⋅E₁₀⋅E₁₁\n",
       "\n",
       "                      3          2            2            2                  \n",
       " + 2⋅E₀₀⋅E₂₀⋅E₂₁ + E₀₁  + E₀₁⋅E₀₂  + 2⋅E₀₁⋅E₁₁  + 2⋅E₀₁⋅E₂₁  + 2⋅E₀₂⋅E₁₁⋅E₁₂ +\n",
       "\n",
       "              ⎞     ⎛     2                                          3        \n",
       " 2⋅E₀₂⋅E₂₁⋅E₂₂⎠ + 4⋅⎝2⋅E₀₀ ⋅E₁₀ + 2⋅E₀₀⋅E₀₁⋅E₁₁ + 2⋅E₀₀⋅E₀₂⋅E₁₂ + E₁₀  + E₁₀⋅E\n",
       "\n",
       "  2          2            2                                ⎞             ⎛    \n",
       "₁₁  + E₁₀⋅E₁₂  + 2⋅E₁₀⋅E₂₀  + 2⋅E₁₁⋅E₂₀⋅E₂₁ + 2⋅E₁₂⋅E₂₀⋅E₂₂⎠⋅E₀₀⋅E₁₁ + 4⋅⎝2⋅E₀\n",
       "\n",
       " 2                                            2                               \n",
       "₀ ⋅E₂₀ + 2⋅E₀₀⋅E₀₁⋅E₂₁ + 2⋅E₀₀⋅E₀₂⋅E₂₂ + 2⋅E₁₀ ⋅E₂₀ + 2⋅E₁₀⋅E₁₁⋅E₂₁ + 2⋅E₁₀⋅E₁\n",
       "\n",
       "           3          2          2⎞             ⎛                             \n",
       "₂⋅E₂₂ + E₂₀  + E₂₀⋅E₂₁  + E₂₀⋅E₂₂ ⎠⋅E₀₀⋅E₂₁ + 4⋅⎝2⋅E₀₀⋅E₀₂⋅E₁₀ + 2⋅E₀₁⋅E₀₂⋅E₁₁\n",
       "\n",
       "        2          2                          2                          3    \n",
       " + 2⋅E₀₂ ⋅E₁₂ + E₁₀ ⋅E₁₂ + 2⋅E₁₀⋅E₂₀⋅E₂₂ + E₁₁ ⋅E₁₂ + 2⋅E₁₁⋅E₂₁⋅E₂₂ + E₁₂  + 2\n",
       "\n",
       "        2⎞             ⎛                                     2                \n",
       "⋅E₁₂⋅E₂₂ ⎠⋅E₀₂⋅E₁₁ + 4⋅⎝2⋅E₀₀⋅E₀₂⋅E₂₀ + 2⋅E₀₁⋅E₀₂⋅E₂₁ + 2⋅E₀₂ ⋅E₂₂ + 2⋅E₁₀⋅E₁₂\n",
       "\n",
       "                            2          2          2          3⎞        ⎞\n",
       "⋅E₂₀ + 2⋅E₁₁⋅E₁₂⋅E₂₁ + 2⋅E₁₂ ⋅E₂₂ + E₂₀ ⋅E₂₂ + E₂₁ ⋅E₂₂ + E₂₂ ⎠⋅E₀₂⋅E₂₁⎠"
      ]
     },
     "execution_count": 7,
     "metadata": {},
     "output_type": "execute_result"
    }
   ],
   "source": [
    "display(Markdown(\"## c(e, o2)\"))\n",
    "\n",
    "m = Matrix(Es*Es.transpose()).expand()\n",
    "mm = Matrix([\n",
    "        [m[0], 0, 0],\n",
    "        [0, m[4], 0],\n",
    "        [0, 0, m[8]]\n",
    "    ])\n",
    "\n",
    "mmm = Matrix((((2*Es*Es.transpose()*Es) - mm*Es))).expand()\n",
    "\n",
    "mmmm = 0\n",
    "for thing in mmm:\n",
    "    mmmm = mmmm + thing**2\n",
    "\n",
    "eq_c = (o2*sqrt(mmmm)**2).simplify()\n",
    "eq_c.diff(E[1])"
   ]
  },
  {
   "cell_type": "code",
   "execution_count": 14,
   "metadata": {},
   "outputs": [
    {
     "data": {
      "text/markdown": [
       "## d(e, o3)"
      ],
      "text/plain": [
       "<IPython.core.display.Markdown object>"
      ]
     },
     "metadata": {},
     "output_type": "display_data"
    },
    {
     "data": {
      "text/latex": [
       "$$\\left[\\begin{matrix}E_{0, 0}^{2} + E_{0, 1}^{2} + E_{0, 2}^{2} & E_{0, 0} E_{1, 0} + E_{0, 1} E_{1, 1} + E_{0, 2} E_{1, 2} & E_{0, 0} E_{2, 0} + E_{0, 1} E_{2, 1} + E_{0, 2} E_{2, 2}\\\\E_{0, 0} E_{1, 0} + E_{0, 1} E_{1, 1} + E_{0, 2} E_{1, 2} & E_{1, 0}^{2} + E_{1, 1}^{2} + E_{1, 2}^{2} & E_{1, 0} E_{2, 0} + E_{1, 1} E_{2, 1} + E_{1, 2} E_{2, 2}\\\\E_{0, 0} E_{2, 0} + E_{0, 1} E_{2, 1} + E_{0, 2} E_{2, 2} & E_{1, 0} E_{2, 0} + E_{1, 1} E_{2, 1} + E_{1, 2} E_{2, 2} & E_{2, 0}^{2} + E_{2, 1}^{2} + E_{2, 2}^{2}\\end{matrix}\\right]$$"
      ],
      "text/plain": [
       "⎡       2      2      2                                                       \n",
       "⎢    E₀₀  + E₀₁  + E₀₂        E₀₀⋅E₁₀ + E₀₁⋅E₁₁ + E₀₂⋅E₁₂  E₀₀⋅E₂₀ + E₀₁⋅E₂₁ +\n",
       "⎢                                                                             \n",
       "⎢                                    2      2      2                          \n",
       "⎢E₀₀⋅E₁₀ + E₀₁⋅E₁₁ + E₀₂⋅E₁₂      E₁₀  + E₁₁  + E₁₂        E₁₀⋅E₂₀ + E₁₁⋅E₂₁ +\n",
       "⎢                                                                             \n",
       "⎢                                                                 2      2    \n",
       "⎣E₀₀⋅E₂₀ + E₀₁⋅E₂₁ + E₀₂⋅E₂₂  E₁₀⋅E₂₀ + E₁₁⋅E₂₁ + E₁₂⋅E₂₂      E₂₀  + E₂₁  + E\n",
       "\n",
       "        ⎤\n",
       " E₀₂⋅E₂₂⎥\n",
       "        ⎥\n",
       "        ⎥\n",
       " E₁₂⋅E₂₂⎥\n",
       "        ⎥\n",
       "  2     ⎥\n",
       "₂₂      ⎦"
      ]
     },
     "metadata": {},
     "output_type": "display_data"
    },
    {
     "data": {
      "image/png": "[encoded data removed]",
      "text/latex": [
       "$$\\left(E_{0, 0}^{2} + E_{0, 1}^{2} + E_{0, 2}^{2} + E_{1, 0}^{2} + E_{1, 1}^{2} + E_{1, 2}^{2} + E_{2, 0}^{2} + E_{2, 1}^{2} + E_{2, 2}^{2} - 1\\right)^{2}$$"
      ],
      "text/plain": [
       "                                                                  2\n",
       "⎛   2      2      2      2      2      2      2      2      2    ⎞ \n",
       "⎝E₀₀  + E₀₁  + E₀₂  + E₁₀  + E₁₁  + E₁₂  + E₂₀  + E₂₁  + E₂₂  - 1⎠ "
      ]
     },
     "metadata": {},
     "output_type": "display_data"
    },
    {
     "data": {
      "image/png": "[encoded data removed]",
      "text/latex": [
       "$$4 o_{1} \\left(E_{0, 0}^{2} + E_{0, 1}^{2} + E_{0, 2}^{2} + E_{1, 0}^{2} + E_{1, 1}^{2} + E_{1, 2}^{2} + E_{2, 0}^{2} + E_{2, 1}^{2} + E_{2, 2}^{2} - 1\\right) E_{0, 1}$$"
      ],
      "text/plain": [
       "     ⎛   2      2      2      2      2      2      2      2      2    ⎞    \n",
       "4⋅o₁⋅⎝E₀₀  + E₀₁  + E₀₂  + E₁₀  + E₁₁  + E₁₂  + E₂₀  + E₂₁  + E₂₂  - 1⎠⋅E₀₁"
      ]
     },
     "execution_count": 14,
     "metadata": {},
     "output_type": "execute_result"
    }
   ],
   "source": [
    "display(Markdown(\"## d(e, o3)\"))\n",
    "\n",
    "#E = MatrixSymbol('E', 3, 3)\n",
    "\n",
    "m = Matrix(Es*Es.transpose()).expand()\n",
    "display(m)\n",
    "\n",
    "mm = ((m[0] + m[4] + m[8]) - 1)**2\n",
    "display(mm)\n",
    "\n",
    "eq_d = (o1*mm).simplify()\n",
    "eq_d.diff(E[1])"
   ]
  },
  {
   "cell_type": "code",
   "execution_count": 15,
   "metadata": {},
   "outputs": [],
   "source": [
    "from sympy.utilities.codegen import codegen\n",
    "from sympy.printing.lambdarepr import lambdarepr\n",
    "\n",
    "expr = (eq_a_i + eq_b + eq_c)\n",
    "\n",
    "args = list(e)\n",
    "args.append(o1)\n",
    "args.append(o2)\n",
    "\n",
    "#list(map(lambda a: expr.diff(a), args))\n",
    "\n",
    "funs = [\n",
    "    ('eqa', eq_a_i),\n",
    "    ('eqa_d_e0', eq_a_i.diff(e[0])),\n",
    "    ('eqa_d_e1', eq_a_i.diff(e[1])),\n",
    "    ('eqa_d_e2', eq_a_i.diff(e[2])),\n",
    "    ('eqa_d_e3', eq_a_i.diff(e[3])),\n",
    "    ('eqa_d_e4', eq_a_i.diff(e[4])),\n",
    "    ('eqa_d_e5', eq_a_i.diff(e[5])),\n",
    "    ('eqa_d_e6', eq_a_i.diff(e[6])),\n",
    "    ('eqa_d_e7', eq_a_i.diff(e[7])),\n",
    "    ('eqa_d_e8', eq_a_i.diff(e[8])),\n",
    "    ('eqb', eq_b),\n",
    "    ('eqb_d_e0', eq_b.diff(e[0])),\n",
    "    ('eqb_d_e1', eq_b.diff(e[1])),\n",
    "    ('eqb_d_e2', eq_b.diff(e[2])),\n",
    "    ('eqb_d_e3', eq_b.diff(e[3])),\n",
    "    ('eqb_d_e4', eq_b.diff(e[4])),\n",
    "    ('eqb_d_e5', eq_b.diff(e[5])),\n",
    "    ('eqb_d_e6', eq_b.diff(e[6])),\n",
    "    ('eqb_d_e7', eq_b.diff(e[7])),\n",
    "    ('eqb_d_e8', eq_b.diff(e[8])),\n",
    "    ('eqc', eq_c),\n",
    "    ('eqc_d_e0', eq_c.diff(e[0])),\n",
    "    ('eqc_d_e1', eq_c.diff(e[1])),\n",
    "    ('eqc_d_e2', eq_c.diff(e[2])),\n",
    "    ('eqc_d_e3', eq_c.diff(e[3])),\n",
    "    ('eqc_d_e4', eq_c.diff(e[4])),\n",
    "    ('eqc_d_e5', eq_c.diff(e[5])),\n",
    "    ('eqc_d_e6', eq_c.diff(e[6])),\n",
    "    ('eqc_d_e7', eq_c.diff(e[7])),\n",
    "    ('eqc_d_e8', eq_c.diff(e[8])),\n",
    "    ('eqd', eq_d),\n",
    "    ('eqd_d_e0', eq_d.diff(e[0])),\n",
    "    ('eqd_d_e1', eq_d.diff(e[1])),\n",
    "    ('eqd_d_e2', eq_d.diff(e[2])),\n",
    "    ('eqd_d_e3', eq_d.diff(e[3])),\n",
    "    ('eqd_d_e4', eq_d.diff(e[4])),\n",
    "    ('eqd_d_e5', eq_d.diff(e[5])),\n",
    "    ('eqd_d_e6', eq_d.diff(e[6])),\n",
    "    ('eqd_d_e7', eq_d.diff(e[7])),\n",
    "    ('eqd_d_e8', eq_d.diff(e[8])),\n",
    "]\n",
    "\n",
    "#print(codegen(funs, 'c', 'essential_matrix_eqs', to_files=True))\n",
    "\n",
    "out_py = \"\"\n",
    "for (fun_name, fun_expr) in funs:\n",
    "    out_py += fun_name + \" = lambda E, Y, o1, o2, o3: \" + lambdarepr(fun_expr) + \"\\n\"\n",
    "with open('funs.py', 'w') as f:\n",
    "    f.write(out_py)\n",
    "\n",
    "#expr_rout = codegen.Routine('lol', args)"
   ]
  }
 ],
 "metadata": {
  "kernelspec": {
   "display_name": "Python 3",
   "language": "python",
   "name": "python3"
  },
  "language_info": {
   "codemirror_mode": {
    "name": "ipython",
    "version": 3
   },
   "file_extension": ".py",
   "mimetype": "text/x-python",
   "name": "python",
   "nbconvert_exporter": "python",
   "pygments_lexer": "ipython3",
   "version": "3.8.2"
  }
 },
 "nbformat": 4,
 "nbformat_minor": 4
}
